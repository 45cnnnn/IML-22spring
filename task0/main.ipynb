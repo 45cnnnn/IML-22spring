{
 "cells": [
  {
   "cell_type": "code",
   "execution_count": 34,
   "id": "484a9238-bf32-47d8-9860-d8339e79aa7f",
   "metadata": {},
   "outputs": [],
   "source": [
    "import numpy as np\n",
    "import pandas as pd"
   ]
  },
  {
   "cell_type": "code",
   "execution_count": 35,
   "id": "19e6b5b2-7566-4396-a0ab-a42266df3281",
   "metadata": {},
   "outputs": [],
   "source": [
    "from sklearn import linear_model\n",
    "from sklearn.metrics import mean_squared_error"
   ]
  },
  {
   "cell_type": "code",
   "execution_count": 36,
   "id": "8c500aae-d83b-48b1-bf74-b0cbbf77310e",
   "metadata": {},
   "outputs": [],
   "source": [
    "df_train = pd.read_csv('./data/train.csv')\n",
    "df_test = pd.read_csv('./data/test.csv')"
   ]
  },
  {
   "cell_type": "code",
   "execution_count": 37,
   "id": "10524a37-376b-4c6f-b215-33d7b8015b16",
   "metadata": {},
   "outputs": [
    {
     "data": {
      "text/html": [
       "<div>\n",
       "<style scoped>\n",
       "    .dataframe tbody tr th:only-of-type {\n",
       "        vertical-align: middle;\n",
       "    }\n",
       "\n",
       "    .dataframe tbody tr th {\n",
       "        vertical-align: top;\n",
       "    }\n",
       "\n",
       "    .dataframe thead th {\n",
       "        text-align: right;\n",
       "    }\n",
       "</style>\n",
       "<table border=\"1\" class=\"dataframe\">\n",
       "  <thead>\n",
       "    <tr style=\"text-align: right;\">\n",
       "      <th></th>\n",
       "      <th>Id</th>\n",
       "      <th>y</th>\n",
       "      <th>x1</th>\n",
       "      <th>x2</th>\n",
       "      <th>x3</th>\n",
       "      <th>x4</th>\n",
       "      <th>x5</th>\n",
       "      <th>x6</th>\n",
       "      <th>x7</th>\n",
       "      <th>x8</th>\n",
       "      <th>x9</th>\n",
       "      <th>x10</th>\n",
       "    </tr>\n",
       "  </thead>\n",
       "  <tbody>\n",
       "    <tr>\n",
       "      <th>0</th>\n",
       "      <td>0</td>\n",
       "      <td>738.023171</td>\n",
       "      <td>1764.052346</td>\n",
       "      <td>400.157208</td>\n",
       "      <td>978.737984</td>\n",
       "      <td>2240.893199</td>\n",
       "      <td>1867.557990</td>\n",
       "      <td>-977.277880</td>\n",
       "      <td>950.088418</td>\n",
       "      <td>-151.357208</td>\n",
       "      <td>-103.218852</td>\n",
       "      <td>410.598502</td>\n",
       "    </tr>\n",
       "    <tr>\n",
       "      <th>1</th>\n",
       "      <td>1</td>\n",
       "      <td>400.646015</td>\n",
       "      <td>144.043571</td>\n",
       "      <td>1454.273507</td>\n",
       "      <td>761.037725</td>\n",
       "      <td>121.675016</td>\n",
       "      <td>443.863233</td>\n",
       "      <td>333.674327</td>\n",
       "      <td>1494.079073</td>\n",
       "      <td>-205.158264</td>\n",
       "      <td>313.067702</td>\n",
       "      <td>-854.095739</td>\n",
       "    </tr>\n",
       "    <tr>\n",
       "      <th>2</th>\n",
       "      <td>2</td>\n",
       "      <td>189.900156</td>\n",
       "      <td>-2552.989816</td>\n",
       "      <td>653.618595</td>\n",
       "      <td>864.436199</td>\n",
       "      <td>-742.165020</td>\n",
       "      <td>2269.754624</td>\n",
       "      <td>-1454.365675</td>\n",
       "      <td>45.758517</td>\n",
       "      <td>-187.183850</td>\n",
       "      <td>1532.779214</td>\n",
       "      <td>1469.358770</td>\n",
       "    </tr>\n",
       "    <tr>\n",
       "      <th>3</th>\n",
       "      <td>3</td>\n",
       "      <td>-78.399449</td>\n",
       "      <td>154.947426</td>\n",
       "      <td>378.162520</td>\n",
       "      <td>-887.785748</td>\n",
       "      <td>-1980.796468</td>\n",
       "      <td>-347.912149</td>\n",
       "      <td>156.348969</td>\n",
       "      <td>1230.290681</td>\n",
       "      <td>1202.379849</td>\n",
       "      <td>-387.326817</td>\n",
       "      <td>-302.302751</td>\n",
       "    </tr>\n",
       "    <tr>\n",
       "      <th>4</th>\n",
       "      <td>4</td>\n",
       "      <td>-547.373531</td>\n",
       "      <td>-1048.552965</td>\n",
       "      <td>-1420.017937</td>\n",
       "      <td>-1706.270191</td>\n",
       "      <td>1950.775395</td>\n",
       "      <td>-509.652182</td>\n",
       "      <td>-438.074302</td>\n",
       "      <td>-1252.795360</td>\n",
       "      <td>777.490356</td>\n",
       "      <td>-1613.897848</td>\n",
       "      <td>-212.740280</td>\n",
       "    </tr>\n",
       "    <tr>\n",
       "      <th>5</th>\n",
       "      <td>5</td>\n",
       "      <td>-242.792588</td>\n",
       "      <td>-895.466561</td>\n",
       "      <td>386.902498</td>\n",
       "      <td>-510.805138</td>\n",
       "      <td>-1180.632184</td>\n",
       "      <td>-28.182228</td>\n",
       "      <td>428.331871</td>\n",
       "      <td>66.517222</td>\n",
       "      <td>302.471898</td>\n",
       "      <td>-634.322094</td>\n",
       "      <td>-362.741166</td>\n",
       "    </tr>\n",
       "    <tr>\n",
       "      <th>6</th>\n",
       "      <td>6</td>\n",
       "      <td>-581.856635</td>\n",
       "      <td>-672.460448</td>\n",
       "      <td>-359.553162</td>\n",
       "      <td>-813.146282</td>\n",
       "      <td>-1726.282602</td>\n",
       "      <td>177.426142</td>\n",
       "      <td>-401.780936</td>\n",
       "      <td>-1630.198347</td>\n",
       "      <td>462.782256</td>\n",
       "      <td>-907.298364</td>\n",
       "      <td>51.945396</td>\n",
       "    </tr>\n",
       "    <tr>\n",
       "      <th>7</th>\n",
       "      <td>7</td>\n",
       "      <td>-122.485412</td>\n",
       "      <td>729.090562</td>\n",
       "      <td>128.982911</td>\n",
       "      <td>1139.400685</td>\n",
       "      <td>-1234.825820</td>\n",
       "      <td>402.341641</td>\n",
       "      <td>-684.810091</td>\n",
       "      <td>-870.797149</td>\n",
       "      <td>-578.849665</td>\n",
       "      <td>-311.552532</td>\n",
       "      <td>56.165342</td>\n",
       "    </tr>\n",
       "    <tr>\n",
       "      <th>8</th>\n",
       "      <td>8</td>\n",
       "      <td>303.179061</td>\n",
       "      <td>-1165.149841</td>\n",
       "      <td>900.826487</td>\n",
       "      <td>465.662440</td>\n",
       "      <td>-1536.243686</td>\n",
       "      <td>1488.252194</td>\n",
       "      <td>1895.889176</td>\n",
       "      <td>1178.779571</td>\n",
       "      <td>-179.924836</td>\n",
       "      <td>-1070.752622</td>\n",
       "      <td>1054.451727</td>\n",
       "    </tr>\n",
       "    <tr>\n",
       "      <th>9</th>\n",
       "      <td>9</td>\n",
       "      <td>539.239367</td>\n",
       "      <td>-403.176947</td>\n",
       "      <td>1222.445070</td>\n",
       "      <td>208.274978</td>\n",
       "      <td>976.639036</td>\n",
       "      <td>356.366397</td>\n",
       "      <td>706.573168</td>\n",
       "      <td>10.500021</td>\n",
       "      <td>1785.870494</td>\n",
       "      <td>126.912093</td>\n",
       "      <td>401.989363</td>\n",
       "    </tr>\n",
       "  </tbody>\n",
       "</table>\n",
       "</div>"
      ],
      "text/plain": [
       "   Id           y           x1           x2           x3           x4  \\\n",
       "0   0  738.023171  1764.052346   400.157208   978.737984  2240.893199   \n",
       "1   1  400.646015   144.043571  1454.273507   761.037725   121.675016   \n",
       "2   2  189.900156 -2552.989816   653.618595   864.436199  -742.165020   \n",
       "3   3  -78.399449   154.947426   378.162520  -887.785748 -1980.796468   \n",
       "4   4 -547.373531 -1048.552965 -1420.017937 -1706.270191  1950.775395   \n",
       "5   5 -242.792588  -895.466561   386.902498  -510.805138 -1180.632184   \n",
       "6   6 -581.856635  -672.460448  -359.553162  -813.146282 -1726.282602   \n",
       "7   7 -122.485412   729.090562   128.982911  1139.400685 -1234.825820   \n",
       "8   8  303.179061 -1165.149841   900.826487   465.662440 -1536.243686   \n",
       "9   9  539.239367  -403.176947  1222.445070   208.274978   976.639036   \n",
       "\n",
       "            x5           x6           x7           x8           x9  \\\n",
       "0  1867.557990  -977.277880   950.088418  -151.357208  -103.218852   \n",
       "1   443.863233   333.674327  1494.079073  -205.158264   313.067702   \n",
       "2  2269.754624 -1454.365675    45.758517  -187.183850  1532.779214   \n",
       "3  -347.912149   156.348969  1230.290681  1202.379849  -387.326817   \n",
       "4  -509.652182  -438.074302 -1252.795360   777.490356 -1613.897848   \n",
       "5   -28.182228   428.331871    66.517222   302.471898  -634.322094   \n",
       "6   177.426142  -401.780936 -1630.198347   462.782256  -907.298364   \n",
       "7   402.341641  -684.810091  -870.797149  -578.849665  -311.552532   \n",
       "8  1488.252194  1895.889176  1178.779571  -179.924836 -1070.752622   \n",
       "9   356.366397   706.573168    10.500021  1785.870494   126.912093   \n",
       "\n",
       "           x10  \n",
       "0   410.598502  \n",
       "1  -854.095739  \n",
       "2  1469.358770  \n",
       "3  -302.302751  \n",
       "4  -212.740280  \n",
       "5  -362.741166  \n",
       "6    51.945396  \n",
       "7    56.165342  \n",
       "8  1054.451727  \n",
       "9   401.989363  "
      ]
     },
     "execution_count": 37,
     "metadata": {},
     "output_type": "execute_result"
    }
   ],
   "source": [
    "df_train.head(10)"
   ]
  },
  {
   "cell_type": "code",
   "execution_count": 38,
   "id": "08db7313-cbab-4d75-aa32-106bc962e342",
   "metadata": {},
   "outputs": [],
   "source": [
    "x_train = df_train.iloc[:,2:]\n",
    "y_train = df_train.y\n",
    "x_test = df_test.iloc[:,1:]"
   ]
  },
  {
   "cell_type": "code",
   "execution_count": 39,
   "id": "f7ec4e26-eb33-456e-8b8b-ae76d2af5eeb",
   "metadata": {},
   "outputs": [],
   "source": [
    "model = linear_model.LinearRegression()"
   ]
  },
  {
   "cell_type": "code",
   "execution_count": 40,
   "id": "83462ce0-5bea-47b9-83d7-ac9c48fb44ac",
   "metadata": {},
   "outputs": [
    {
     "data": {
      "text/plain": [
       "LinearRegression()"
      ]
     },
     "execution_count": 40,
     "metadata": {},
     "output_type": "execute_result"
    }
   ],
   "source": [
    "model.fit(x_train, y_train)"
   ]
  },
  {
   "cell_type": "code",
   "execution_count": 41,
   "id": "0f4783d9-d8a1-4963-821e-9f543d466fa2",
   "metadata": {},
   "outputs": [
    {
     "name": "stdout",
     "output_type": "stream",
     "text": [
      "[ -66.00242349  451.4065044  -461.67641706 ...  -35.13540942 -131.67918453\n",
      "  417.26915462]\n"
     ]
    }
   ],
   "source": [
    "y_pred = np.double(model.predict(x_test))\n",
    "print(y_pred)"
   ]
  },
  {
   "cell_type": "code",
   "execution_count": 42,
   "id": "70cf520f-6572-4154-957c-cb4f96386bec",
   "metadata": {},
   "outputs": [
    {
     "name": "stdout",
     "output_type": "stream",
     "text": [
      "0       -66.002423\n",
      "1       451.406504\n",
      "2      -461.676417\n",
      "3        40.501209\n",
      "4      -126.744722\n",
      "           ...    \n",
      "1995    464.715255\n",
      "1996    496.485334\n",
      "1997    -35.135409\n",
      "1998   -131.679185\n",
      "1999    417.269155\n",
      "Length: 2000, dtype: float64\n"
     ]
    }
   ],
   "source": [
    "y_mean = x_test.mean(axis = 1)\n",
    "print(y_mean)"
   ]
  },
  {
   "cell_type": "code",
   "execution_count": 43,
   "id": "49aac8c7-94cb-4d73-b468-b3a185c844d9",
   "metadata": {},
   "outputs": [
    {
     "name": "stdout",
     "output_type": "stream",
     "text": [
      "1.0743586812832354e-12\n"
     ]
    }
   ],
   "source": [
    "RMSE = mean_squared_error(y_mean, y_pred)**0.5\n",
    "print(RMSE)"
   ]
  },
  {
   "cell_type": "code",
   "execution_count": 44,
   "id": "ffdd3079-2ea9-46f9-a58c-402ffd757bf4",
   "metadata": {},
   "outputs": [],
   "source": [
    "df_sub = pd.read_csv('./data/sample.csv')\n",
    "id_sub = df_sub.Id\n",
    "sub = pd.DataFrame({'Id':id_sub, 'y':y_pred})\n",
    "sub.to_csv('sub.csv', index = False)"
   ]
  }
 ],
 "metadata": {
  "kernelspec": {
   "display_name": "Python 3 (ipykernel)",
   "language": "python",
   "name": "python3"
  },
  "language_info": {
   "codemirror_mode": {
    "name": "ipython",
    "version": 3
   },
   "file_extension": ".py",
   "mimetype": "text/x-python",
   "name": "python",
   "nbconvert_exporter": "python",
   "pygments_lexer": "ipython3",
   "version": "3.7.11"
  }
 },
 "nbformat": 4,
 "nbformat_minor": 5
}
