{
 "cells": [
  {
   "cell_type": "code",
   "execution_count": 23,
   "metadata": {},
   "outputs": [],
   "source": [
    "from tqdm import tqdm\n",
    "import numpy as np\n",
    "import pandas as pd\n",
    "from sklearn.model_selection import train_test_split\n",
    "\n",
    "from skimage.io import imread\n",
    "from sklearn.metrics import accuracy_score"
   ]
  },
  {
   "cell_type": "code",
   "execution_count": 24,
   "metadata": {},
   "outputs": [
    {
     "data": {
      "text/plain": [
       "'cuda'"
      ]
     },
     "execution_count": 24,
     "metadata": {},
     "output_type": "execute_result"
    }
   ],
   "source": [
    "import torch\n",
    "import torchvision\n",
    "import torchvision.transforms as transforms\n",
    "device = 'cuda' if torch.cuda.is_available() else 'cpu'\n",
    "device"
   ]
  },
  {
   "cell_type": "code",
   "execution_count": 25,
   "metadata": {},
   "outputs": [],
   "source": [
    "IMAGE_HEIGHT = 299\n",
    "IMAGE_WIDTH = 299\n",
    "BATCH_SIZE = 32\n",
    "\n",
    "RANDOM_SEED = 42\n",
    "EPOCHS = 10\n",
    "\n",
    "PATH = './incept.pth'"
   ]
  },
  {
   "cell_type": "code",
   "execution_count": 26,
   "metadata": {},
   "outputs": [
    {
     "data": {
      "text/plain": [
       "59515"
      ]
     },
     "execution_count": 26,
     "metadata": {},
     "output_type": "execute_result"
    }
   ],
   "source": [
    "train_triplets = np.loadtxt('./data/train_triplets.txt', dtype='str')\n",
    "test_triplets = np.loadtxt('./data/test_triplets.txt', dtype='str')\n",
    "len(train_triplets)"
   ]
  },
  {
   "cell_type": "code",
   "execution_count": 27,
   "metadata": {},
   "outputs": [],
   "source": [
    "# train_set, valid_set = train_test_split(train_triplets, test_size=0.1, random_state=RANDOM_SEED)\n",
    "# len(train_set)"
   ]
  },
  {
   "cell_type": "code",
   "execution_count": 28,
   "metadata": {},
   "outputs": [
    {
     "data": {
      "text/html": [
       "<div>\n",
       "<style scoped>\n",
       "    .dataframe tbody tr th:only-of-type {\n",
       "        vertical-align: middle;\n",
       "    }\n",
       "\n",
       "    .dataframe tbody tr th {\n",
       "        vertical-align: top;\n",
       "    }\n",
       "\n",
       "    .dataframe thead th {\n",
       "        text-align: right;\n",
       "    }\n",
       "</style>\n",
       "<table border=\"1\" class=\"dataframe\">\n",
       "  <thead>\n",
       "    <tr style=\"text-align: right;\">\n",
       "      <th></th>\n",
       "      <th>0</th>\n",
       "      <th>1</th>\n",
       "      <th>2</th>\n",
       "    </tr>\n",
       "  </thead>\n",
       "  <tbody>\n",
       "    <tr>\n",
       "      <th>0</th>\n",
       "      <td>02461</td>\n",
       "      <td>03450</td>\n",
       "      <td>02678</td>\n",
       "    </tr>\n",
       "    <tr>\n",
       "      <th>1</th>\n",
       "      <td>02299</td>\n",
       "      <td>02499</td>\n",
       "      <td>04987</td>\n",
       "    </tr>\n",
       "    <tr>\n",
       "      <th>2</th>\n",
       "      <td>04663</td>\n",
       "      <td>01056</td>\n",
       "      <td>03029</td>\n",
       "    </tr>\n",
       "    <tr>\n",
       "      <th>3</th>\n",
       "      <td>04532</td>\n",
       "      <td>01186</td>\n",
       "      <td>01297</td>\n",
       "    </tr>\n",
       "    <tr>\n",
       "      <th>4</th>\n",
       "      <td>03454</td>\n",
       "      <td>03809</td>\n",
       "      <td>02204</td>\n",
       "    </tr>\n",
       "    <tr>\n",
       "      <th>...</th>\n",
       "      <td>...</td>\n",
       "      <td>...</td>\n",
       "      <td>...</td>\n",
       "    </tr>\n",
       "    <tr>\n",
       "      <th>59510</th>\n",
       "      <td>00466</td>\n",
       "      <td>02952</td>\n",
       "      <td>02530</td>\n",
       "    </tr>\n",
       "    <tr>\n",
       "      <th>59511</th>\n",
       "      <td>02646</td>\n",
       "      <td>03580</td>\n",
       "      <td>02359</td>\n",
       "    </tr>\n",
       "    <tr>\n",
       "      <th>59512</th>\n",
       "      <td>03255</td>\n",
       "      <td>04844</td>\n",
       "      <td>04334</td>\n",
       "    </tr>\n",
       "    <tr>\n",
       "      <th>59513</th>\n",
       "      <td>02136</td>\n",
       "      <td>04619</td>\n",
       "      <td>00161</td>\n",
       "    </tr>\n",
       "    <tr>\n",
       "      <th>59514</th>\n",
       "      <td>02509</td>\n",
       "      <td>02552</td>\n",
       "      <td>03406</td>\n",
       "    </tr>\n",
       "  </tbody>\n",
       "</table>\n",
       "<p>59515 rows × 3 columns</p>\n",
       "</div>"
      ],
      "text/plain": [
       "           0      1      2\n",
       "0      02461  03450  02678\n",
       "1      02299  02499  04987\n",
       "2      04663  01056  03029\n",
       "3      04532  01186  01297\n",
       "4      03454  03809  02204\n",
       "...      ...    ...    ...\n",
       "59510  00466  02952  02530\n",
       "59511  02646  03580  02359\n",
       "59512  03255  04844  04334\n",
       "59513  02136  04619  00161\n",
       "59514  02509  02552  03406\n",
       "\n",
       "[59515 rows x 3 columns]"
      ]
     },
     "execution_count": 28,
     "metadata": {},
     "output_type": "execute_result"
    }
   ],
   "source": [
    "df_train = pd.DataFrame(train_triplets)\n",
    "df_test = pd.DataFrame(test_triplets)\n",
    "\n",
    "df_train"
   ]
  },
  {
   "cell_type": "code",
   "execution_count": 29,
   "metadata": {},
   "outputs": [
    {
     "data": {
      "text/html": [
       "<div>\n",
       "<style scoped>\n",
       "    .dataframe tbody tr th:only-of-type {\n",
       "        vertical-align: middle;\n",
       "    }\n",
       "\n",
       "    .dataframe tbody tr th {\n",
       "        vertical-align: top;\n",
       "    }\n",
       "\n",
       "    .dataframe thead th {\n",
       "        text-align: right;\n",
       "    }\n",
       "</style>\n",
       "<table border=\"1\" class=\"dataframe\">\n",
       "  <thead>\n",
       "    <tr style=\"text-align: right;\">\n",
       "      <th></th>\n",
       "      <th>A</th>\n",
       "      <th>B</th>\n",
       "      <th>C</th>\n",
       "      <th>y</th>\n",
       "    </tr>\n",
       "  </thead>\n",
       "  <tbody>\n",
       "    <tr>\n",
       "      <th>0</th>\n",
       "      <td>04942</td>\n",
       "      <td>01841</td>\n",
       "      <td>04526</td>\n",
       "      <td>1</td>\n",
       "    </tr>\n",
       "    <tr>\n",
       "      <th>1</th>\n",
       "      <td>00313</td>\n",
       "      <td>02280</td>\n",
       "      <td>00786</td>\n",
       "      <td>1</td>\n",
       "    </tr>\n",
       "    <tr>\n",
       "      <th>2</th>\n",
       "      <td>03414</td>\n",
       "      <td>03176</td>\n",
       "      <td>02052</td>\n",
       "      <td>1</td>\n",
       "    </tr>\n",
       "    <tr>\n",
       "      <th>3</th>\n",
       "      <td>01699</td>\n",
       "      <td>00046</td>\n",
       "      <td>03309</td>\n",
       "      <td>1</td>\n",
       "    </tr>\n",
       "    <tr>\n",
       "      <th>4</th>\n",
       "      <td>01125</td>\n",
       "      <td>00510</td>\n",
       "      <td>00700</td>\n",
       "      <td>1</td>\n",
       "    </tr>\n",
       "    <tr>\n",
       "      <th>...</th>\n",
       "      <td>...</td>\n",
       "      <td>...</td>\n",
       "      <td>...</td>\n",
       "      <td>...</td>\n",
       "    </tr>\n",
       "    <tr>\n",
       "      <th>119025</th>\n",
       "      <td>01851</td>\n",
       "      <td>00020</td>\n",
       "      <td>00973</td>\n",
       "      <td>1</td>\n",
       "    </tr>\n",
       "    <tr>\n",
       "      <th>119026</th>\n",
       "      <td>04187</td>\n",
       "      <td>04141</td>\n",
       "      <td>00354</td>\n",
       "      <td>1</td>\n",
       "    </tr>\n",
       "    <tr>\n",
       "      <th>119027</th>\n",
       "      <td>03094</td>\n",
       "      <td>00714</td>\n",
       "      <td>01913</td>\n",
       "      <td>1</td>\n",
       "    </tr>\n",
       "    <tr>\n",
       "      <th>119028</th>\n",
       "      <td>01682</td>\n",
       "      <td>02832</td>\n",
       "      <td>00026</td>\n",
       "      <td>1</td>\n",
       "    </tr>\n",
       "    <tr>\n",
       "      <th>119029</th>\n",
       "      <td>03614</td>\n",
       "      <td>02864</td>\n",
       "      <td>02252</td>\n",
       "      <td>1</td>\n",
       "    </tr>\n",
       "  </tbody>\n",
       "</table>\n",
       "<p>119030 rows × 4 columns</p>\n",
       "</div>"
      ],
      "text/plain": [
       "            A      B      C  y\n",
       "0       04942  01841  04526  1\n",
       "1       00313  02280  00786  1\n",
       "2       03414  03176  02052  1\n",
       "3       01699  00046  03309  1\n",
       "4       01125  00510  00700  1\n",
       "...       ...    ...    ... ..\n",
       "119025  01851  00020  00973  1\n",
       "119026  04187  04141  00354  1\n",
       "119027  03094  00714  01913  1\n",
       "119028  01682  02832  00026  1\n",
       "119029  03614  02864  02252  1\n",
       "\n",
       "[119030 rows x 4 columns]"
      ]
     },
     "execution_count": 29,
     "metadata": {},
     "output_type": "execute_result"
    }
   ],
   "source": [
    "df_train.columns = ['A', 'B', 'C']\n",
    "df_train.insert(df_train.shape[1], 'y', 1)\n",
    "df_train_append = df_train.copy()\n",
    "df_train_append['A'] = df_train['B'].copy()\n",
    "df_train_append['B'] = df_train['A'].copy()\n",
    "df_train = df_train.append(df_train_append).reset_index(drop=True)\n",
    "df_train = df_train.sample(frac=1, random_state=RANDOM_SEED).reset_index(drop=True)\n",
    "df_train"
   ]
  },
  {
   "cell_type": "code",
   "execution_count": 30,
   "metadata": {},
   "outputs": [
    {
     "data": {
      "text/plain": [
       "array([['02927', '03675', '00358', 1],\n",
       "       ['01953', '02746', '00994', 1],\n",
       "       ['03002', '01320', '00227', 1],\n",
       "       ...,\n",
       "       ['02097', '00322', '00947', 1],\n",
       "       ['04476', '03859', '02654', 1],\n",
       "       ['04236', '03336', '00055', 1]], dtype=object)"
      ]
     },
     "execution_count": 30,
     "metadata": {},
     "output_type": "execute_result"
    }
   ],
   "source": [
    "train_set, valid_set = train_test_split(df_train.to_numpy(), test_size=0.1, random_state=RANDOM_SEED)\n",
    "valid_set"
   ]
  },
  {
   "cell_type": "code",
   "execution_count": 31,
   "metadata": {},
   "outputs": [],
   "source": [
    "transform_train = transforms.Compose([\n",
    "    transforms.ToTensor(),\n",
    "    transforms.Resize(size=(IMAGE_HEIGHT, IMAGE_WIDTH)),\n",
    "    transforms.RandomHorizontalFlip(), \n",
    "    transforms.Normalize((0.608, 0.516, 0.412),(0.264, 0.275, 0.296)), \n",
    "])\n",
    "\n",
    "transform_test = transforms.Compose([\n",
    "    transforms.ToTensor(),\n",
    "    transforms.Resize(size=(IMAGE_HEIGHT, IMAGE_WIDTH)),\n",
    "    transforms.Normalize((0.608, 0.516, 0.412),(0.264, 0.275, 0.296)),\n",
    "])"
   ]
  },
  {
   "cell_type": "code",
   "execution_count": 32,
   "metadata": {},
   "outputs": [
    {
     "data": {
      "text/plain": [
       "<__main__.MyDataset at 0x7f4c231189d0>"
      ]
     },
     "execution_count": 32,
     "metadata": {},
     "output_type": "execute_result"
    }
   ],
   "source": [
    "class MyDataset(torch.utils.data.Dataset):\n",
    "    def __init__(self, data, transform=None, trainning=False):\n",
    "\n",
    "        self.imgs = data\n",
    "\n",
    "        self.img_A = self.imgs[:, 0]\n",
    "        self.img_B = self.imgs[:, 1]\n",
    "        self.img_C = self.imgs[:, 2]\n",
    "        # self.label = data[:, 3]\n",
    "        self.transform = transform\n",
    "        self.trainning = trainning\n",
    "        \n",
    "        if self.trainning:\n",
    "            self.label = self.imgs[:, 3]\n",
    "    \n",
    "    def __getitem__(self, index):\n",
    "        img_A = imread( './food/' + self.img_A[index] + '.jpg')\n",
    "        img_B = imread( './food/' + self.img_B[index] + '.jpg')\n",
    "        img_C = imread( './food/' + self.img_C[index] + '.jpg')\n",
    "\n",
    "        if self.transform is not None:\n",
    "            img_A = self.transform(img_A)\n",
    "            img_B = self.transform(img_B)\n",
    "            img_C = self.transform(img_C)\n",
    "\n",
    "        if self.trainning:\n",
    "            label = self.label[index]\n",
    "            return img_A, img_B, img_C, label\n",
    "        else:\n",
    "            return img_A, img_B, img_C\n",
    "\n",
    "    def __len__(self):\n",
    "        return self.imgs.shape[0]\n",
    "\n",
    "\n",
    "train_data = MyDataset(data=train_set, transform=transform_train, trainning=True)\n",
    "valid_data = MyDataset(data=valid_set, transform=transform_test, trainning=True)\n",
    "test_data = MyDataset(data=test_triplets, transform=transform_test, trainning=False)\n",
    "train_data\n"
   ]
  },
  {
   "cell_type": "code",
   "execution_count": 33,
   "metadata": {},
   "outputs": [],
   "source": [
    "from torch.utils.data import DataLoader \n",
    "\n",
    "train_loader = DataLoader(dataset=train_data, batch_size=BATCH_SIZE, shuffle=True)\n",
    "valid_loader = DataLoader(dataset=valid_data, batch_size=BATCH_SIZE)\n",
    "test_loader = DataLoader(dataset=test_data,batch_size=BATCH_SIZE)"
   ]
  },
  {
   "cell_type": "code",
   "execution_count": 34,
   "metadata": {},
   "outputs": [],
   "source": [
    "import torch.nn as nn\n",
    "import torchvision.models as models\n",
    "\n",
    "class ConvNet(nn.Module):\n",
    "    def __init__(self, pretrained_net):\n",
    "        super(ConvNet, self).__init__()\n",
    "        self.pretrained_net = pretrained_net\n",
    "    def forward(self, img_A, img_B, img_C):\n",
    "        anchor = self.pretrained_net(img_A)\n",
    "        postive = self.pretrained_net(img_B)\n",
    "        negative = self.pretrained_net(img_C)\n",
    "        return anchor, postive, negative\n",
    "\n",
    "model = models.inception_v3(pretrained=True)\n",
    "net = ConvNet(model).to(device)"
   ]
  },
  {
   "cell_type": "code",
   "execution_count": 35,
   "metadata": {},
   "outputs": [],
   "source": [
    "import torch.optim as optim\n",
    "\n",
    "criterion = nn.TripletMarginLoss()\n",
    "optimizer = optim.SGD(net.parameters(), lr=0.001, momentum=0.9)"
   ]
  },
  {
   "cell_type": "code",
   "execution_count": 36,
   "metadata": {},
   "outputs": [],
   "source": [
    "# for A, B, C, label in train_loader:\n",
    "#     print(A)\n",
    "#     break\n",
    "# for i, data in enumerate(train_loader, 0):\n",
    "#     print(data[3].reshape(-1,1))\n",
    "#     print(data[3].size())\n",
    "#     break\n",
    "# y_pred = [0, 2, 1, 3]\n",
    "# y_true = [0, 1, 2, 3]\n",
    "# accuracy_score(y_true, y_pred)"
   ]
  },
  {
   "cell_type": "code",
   "execution_count": 37,
   "metadata": {},
   "outputs": [],
   "source": [
    "def valid(anchor, positive, negative, label):\n",
    "    dist_pos = torch.norm(anchor - positive, p=2, dim=1)\n",
    "    dist_neg = torch.norm(anchor - negative, p=2, dim=1)\n",
    "    diff = (dist_pos - dist_neg).detach().cpu().numpy()\n",
    "    predict = np.ceil(diff.clip(0,1))\n",
    "    \n",
    "    return accuracy_score(label, predict, normalize=False)"
   ]
  },
  {
   "cell_type": "code",
   "execution_count": 38,
   "metadata": {},
   "outputs": [],
   "source": [
    "def train(model):\n",
    "    valid_accuracy = 0.0\n",
    "    for epoch in range(EPOCHS):\n",
    "        running_loss = 0.0\n",
    "        valid_loss = 0.0\n",
    "        correct = 0\n",
    "        total = 0\n",
    "        accuracy = 0.0\n",
    "\n",
    "        print('Training')\n",
    "        # trainning\n",
    "        for i, data in tqdm(enumerate(train_loader, 0)):\n",
    "            img_A = data[0].to(device)\n",
    "            img_B = data[1].to(device)\n",
    "            img_C = data[2].to(device)\n",
    "            \n",
    "            optimizer.zero_grad()\n",
    "\n",
    "            anchor, positive, negetive = model(img_A, img_B, img_C)\n",
    "\n",
    "            loss = criterion(anchor, positive, negetive)\n",
    "            loss.backward()\n",
    "            optimizer.step()\n",
    "\n",
    "            running_loss += loss.item()\n",
    "        print(f'[{epoch + 1}] average loss per epoch: {running_loss / len(train_loader):.3f}')\n",
    "\n",
    "        print('Validation')\n",
    "        # validation\n",
    "        model.eval()\n",
    "        with torch.no_grad():\n",
    "            for i, data in tqdm(enumerate(valid_loader, 0)):\n",
    "                img_A = data[0].to(device)\n",
    "                img_B = data[1].to(device)\n",
    "                img_C = data[2].to(device)\n",
    "                labels = data[3].reshape(-1, 1)\n",
    "\n",
    "                anchor, positive, negetive = model(img_A, img_B, img_C)\n",
    "                loss = criterion(anchor, positive, negetive)\n",
    "                valid_loss += loss\n",
    "                correct += valid(anchor, positive, negetive, labels)\n",
    "                total += labels.size(0)\n",
    "                accuracy = correct / total\n",
    "        print(f'[{epoch + 1}] Accuracy of the network on the {total} valid images: {100 * accuracy} %')\n",
    "\n",
    "        if accuracy >= valid_accuracy:\n",
    "            valid_accuracy = accuracy\n",
    "            torch.save(model.state_dict(), PATH)\n",
    "    print('Finished Training')\n",
    "    "
   ]
  },
  {
   "cell_type": "code",
   "execution_count": 39,
   "metadata": {},
   "outputs": [
    {
     "name": "stdout",
     "output_type": "stream",
     "text": [
      "Training\n"
     ]
    },
    {
     "name": "stderr",
     "output_type": "stream",
     "text": [
      "2139it [31:49,  1.12it/s]"
     ]
    }
   ],
   "source": [
    "train(net)"
   ]
  },
  {
   "cell_type": "code",
   "execution_count": null,
   "metadata": {},
   "outputs": [],
   "source": [
    "net.load_state_dict(torch.load(PATH))\n",
    "net.to(device)"
   ]
  },
  {
   "cell_type": "code",
   "execution_count": null,
   "metadata": {},
   "outputs": [],
   "source": [
    "def predict(anchor, positive, negative):\n",
    "    dist_pos = torch.norm(anchor - positive, p=2, dim=1)\n",
    "    dist_neg = torch.norm(anchor - negative, p=2, dim=1)\n",
    "    diff = (dist_pos - dist_neg).detach().to('cpu').numpy()\n",
    "    predict = np.ceil(diff.clip(0,1))\n",
    "\n",
    "    return(predict)"
   ]
  },
  {
   "cell_type": "code",
   "execution_count": null,
   "metadata": {},
   "outputs": [],
   "source": [
    "def test(model):\n",
    "    predictions = []\n",
    "    model.eval()\n",
    "    with torch.no_grad():\n",
    "        for i, data in tqdm(enumerate(test_loader, 0)):\n",
    "            img_A = data[0].to(device)\n",
    "            img_B = data[1].to(device)\n",
    "            img_C = data[2].to(device)\n",
    "\n",
    "            anchor, positive, negetive = model(img_A, img_B, img_C)\n",
    "\n",
    "            pred = predict(anchor, positive, negetive)\n",
    "            predictions.append(pred)\n",
    "    return predictions"
   ]
  },
  {
   "cell_type": "code",
   "execution_count": null,
   "metadata": {},
   "outputs": [],
   "source": [
    "output = test(net)\n",
    "np.savetxt('predictions_incept.txt', output, fmt='%i')"
   ]
  }
 ],
 "metadata": {
  "interpreter": {
   "hash": "5c8cb4dbb2fd8a9120647a69422f1245f24db8fb6180f020387385d803b2c19d"
  },
  "kernelspec": {
   "display_name": "Python 3.7.11 ('intro-ml')",
   "language": "python",
   "name": "python3"
  },
  "language_info": {
   "codemirror_mode": {
    "name": "ipython",
    "version": 3
   },
   "file_extension": ".py",
   "mimetype": "text/x-python",
   "name": "python",
   "nbconvert_exporter": "python",
   "pygments_lexer": "ipython3",
   "version": "3.7.11"
  },
  "orig_nbformat": 4
 },
 "nbformat": 4,
 "nbformat_minor": 2
}
