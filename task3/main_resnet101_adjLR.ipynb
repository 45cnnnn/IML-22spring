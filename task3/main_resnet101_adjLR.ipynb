{
 "cells": [
  {
   "cell_type": "code",
   "execution_count": null,
   "metadata": {},
   "outputs": [],
   "source": [
    "from tqdm import tqdm\n",
    "import numpy as np\n",
    "import pandas as pd\n",
    "from sklearn.model_selection import train_test_split\n",
    "\n",
    "from skimage.io import imread\n",
    "from sklearn.metrics import accuracy_score"
   ]
  },
  {
   "cell_type": "code",
   "execution_count": null,
   "metadata": {},
   "outputs": [],
   "source": [
    "import torch\n",
    "import torchvision\n",
    "import torchvision.transforms as transforms\n",
    "device = 'cuda' if torch.cuda.is_available() else 'cpu'\n",
    "device"
   ]
  },
  {
   "cell_type": "code",
   "execution_count": null,
   "metadata": {},
   "outputs": [],
   "source": [
    "IMAGE_HEIGHT = 224\n",
    "IMAGE_WIDTH = 224\n",
    "BATCH_SIZE = 32\n",
    "\n",
    "RANDOM_SEED = 42\n",
    "EPOCHS = 10\n",
    "\n",
    "PATH = './resnet101_5.pth'\n",
    "SAVE_PATH ='./predictions_resnet101_5.txt'\n",
    "\n",
    "np.random.seed(RANDOM_SEED)\n",
    "torch.manual_seed(RANDOM_SEED)\n",
    "torch.backends.cudnn.deterministic = True\n",
    "torch.backends.cudnn.benchmark = False"
   ]
  },
  {
   "cell_type": "code",
   "execution_count": null,
   "metadata": {},
   "outputs": [],
   "source": [
    "train_triplets = np.loadtxt('./data/train_triplets.txt', dtype='str')\n",
    "test_triplets = np.loadtxt('./data/test_triplets.txt', dtype='str')\n",
    "len(train_triplets)"
   ]
  },
  {
   "cell_type": "code",
   "execution_count": null,
   "metadata": {},
   "outputs": [],
   "source": [
    "df_train = pd.DataFrame(train_triplets)\n",
    "df_test = pd.DataFrame(test_triplets)"
   ]
  },
  {
   "cell_type": "code",
   "execution_count": null,
   "metadata": {},
   "outputs": [],
   "source": [
    "df_train.columns = ['A', 'B', 'C']\n",
    "df_train.insert(df_train.shape[1], 'y', 1)"
   ]
  },
  {
   "cell_type": "code",
   "execution_count": null,
   "metadata": {},
   "outputs": [],
   "source": [
    "train_set, valid_set = train_test_split(df_train.to_numpy(), test_size=0.1, random_state=RANDOM_SEED)\n",
    "valid_set"
   ]
  },
  {
   "cell_type": "code",
   "execution_count": null,
   "metadata": {},
   "outputs": [],
   "source": [
    "transform_train = transforms.Compose([\n",
    "    transforms.ToTensor(),\n",
    "    transforms.Resize(size=(IMAGE_HEIGHT, IMAGE_WIDTH)),\n",
    "    transforms.RandomHorizontalFlip(), \n",
    "    transforms.Normalize([0.485, 0.456, 0.406], [0.229, 0.224, 0.225]), \n",
    "])\n",
    "\n",
    "transform_test = transforms.Compose([\n",
    "    transforms.ToTensor(),\n",
    "    transforms.Resize(size=(IMAGE_HEIGHT, IMAGE_WIDTH)),\n",
    "    transforms.Normalize([0.485, 0.456, 0.406], [0.229, 0.224, 0.225]),\n",
    "])"
   ]
  },
  {
   "cell_type": "code",
   "execution_count": null,
   "metadata": {},
   "outputs": [],
   "source": [
    "class MyDataset(torch.utils.data.Dataset):\n",
    "    def __init__(self, data, transform=None, valid=False):\n",
    "\n",
    "        self.imgs = data\n",
    "\n",
    "        self.img_A = self.imgs[:, 0]\n",
    "        self.img_B = self.imgs[:, 1]\n",
    "        self.img_C = self.imgs[:, 2]\n",
    "        # self.label = data[:, 3]\n",
    "        self.transform = transform\n",
    "        self.valid = valid\n",
    "        \n",
    "        if self.valid:\n",
    "            self.label = self.imgs[:, 3]\n",
    "    \n",
    "    def __getitem__(self, index):\n",
    "        img_A = imread( './food/' + self.img_A[index] + '.jpg')\n",
    "        img_B = imread( './food/' + self.img_B[index] + '.jpg')\n",
    "        img_C = imread( './food/' + self.img_C[index] + '.jpg')\n",
    "\n",
    "        if self.transform is not None:\n",
    "            img_A = self.transform(img_A)\n",
    "            img_B = self.transform(img_B)\n",
    "            img_C = self.transform(img_C)\n",
    "\n",
    "        if self.valid:\n",
    "            label = self.label[index]\n",
    "            return img_A, img_B, img_C, label\n",
    "        else:\n",
    "            return img_A, img_B, img_C\n",
    "\n",
    "    def __len__(self):\n",
    "        return self.imgs.shape[0]\n",
    "\n",
    "\n",
    "train_data = MyDataset(data=train_set, transform=transform_train)\n",
    "valid_data = MyDataset(data=valid_set, transform=transform_test, valid=True)\n",
    "test_data = MyDataset(data=test_triplets, transform=transform_test)"
   ]
  },
  {
   "cell_type": "code",
   "execution_count": null,
   "metadata": {},
   "outputs": [],
   "source": [
    "from torch.utils.data import DataLoader \n",
    "\n",
    "train_loader = DataLoader(dataset=train_data, batch_size=BATCH_SIZE, shuffle=True)\n",
    "valid_loader = DataLoader(dataset=valid_data, batch_size=BATCH_SIZE)\n",
    "test_loader = DataLoader(dataset=test_data,batch_size=BATCH_SIZE)"
   ]
  },
  {
   "cell_type": "code",
   "execution_count": null,
   "metadata": {},
   "outputs": [],
   "source": [
    "import torch.nn as nn\n",
    "import torchvision.models as models\n",
    "\n",
    "class ConvNet(nn.Module):\n",
    "    \n",
    "    def __init__(self, net):\n",
    "        super(ConvNet, self).__init__()\n",
    "        self.net = net\n",
    "\n",
    "    def forward(self, img_A, img_B, img_C):\n",
    "        anchor = self.net(img_A)\n",
    "        postive = self.net(img_B)\n",
    "        negative = self.net(img_C)\n",
    "        return anchor, postive, negative\n",
    "\n",
    "class myLayer(nn.Module):\n",
    "    def __init__(self, input):\n",
    "        super(myLayer, self).__init__()\n",
    "        input_size = input.fc.in_features\n",
    "        self.fc1 = nn.Linear(input_size, 512)\n",
    "        self.fc2 = nn.Linear(512, 512)\n",
    "        self.fc3 = nn.Linear(512, 1024)\n",
    "        self.drop = nn.Dropout(p=0.5)\n",
    "        self.activation_fn = nn.Tanh()\n",
    "        \n",
    "    def forward(self, x):\n",
    "        x = self.fc1(x)\n",
    "        x = self.activation_fn(x)\n",
    "        x = self.drop(x)\n",
    "        x = self.fc2(x)\n",
    "        x = self.activation_fn(x)\n",
    "        x = self.drop(x)\n",
    "        x = self.fc3(x)\n",
    "        return x\n",
    "        \n",
    "model = models.resnet101(pretrained=True)\n",
    "# print(model)\n",
    "for param in model.parameters():\n",
    "    param.requires_grad = False\n",
    "\n",
    "model.fc = myLayer(model)\n",
    "# num_ftrs = model.fc.in_features\n",
    "# model.fc = nn.Linear(num_ftrs, 1000)\n",
    "\n",
    "net = ConvNet(model).to(device)"
   ]
  },
  {
   "cell_type": "code",
   "execution_count": null,
   "metadata": {},
   "outputs": [],
   "source": [
    "import torch.optim as optim\n",
    "\n",
    "criterion = nn.TripletMarginLoss(margin=5, p=2)\n",
    "optimizer = optim.SGD(net.parameters(), lr=0.001, momentum=0.9, weight_decay=1e-5, nesterov=True)"
   ]
  },
  {
   "cell_type": "code",
   "execution_count": null,
   "metadata": {},
   "outputs": [],
   "source": [
    "def adjust_lr(optimizer, epoch):\n",
    "    if (epoch+1)%3 == 0:\n",
    "        for param_group in optimizer.param_groups:\n",
    "            param_group['lr'] = param_group['lr'] * 0.5"
   ]
  },
  {
   "cell_type": "code",
   "execution_count": null,
   "metadata": {},
   "outputs": [],
   "source": [
    "def valid(anchor, positive, negative, label):\n",
    "    dist_pos = torch.norm(anchor - positive, p=2, dim=1)\n",
    "    dist_neg = torch.norm(anchor - negative, p=2, dim=1)\n",
    "    diff = (dist_neg - dist_pos).detach().cpu().numpy()\n",
    "    predict = np.ceil(diff.clip(0,1))\n",
    "    \n",
    "    return accuracy_score(label, predict, normalize=False)"
   ]
  },
  {
   "cell_type": "code",
   "execution_count": null,
   "metadata": {},
   "outputs": [],
   "source": [
    "def train(model):\n",
    "    valid_accuracy = 0.0\n",
    "    for epoch in range(EPOCHS):\n",
    "        running_loss = 0.0\n",
    "        valid_loss = 0.0\n",
    "        correct = 0\n",
    "        total = 0\n",
    "        accuracy = 0.0\n",
    "\n",
    "        print('Training')\n",
    "        # trainning\n",
    "        model.train()\n",
    "        \n",
    "        adjust_lr(optimizer, epoch)\n",
    "        print(f\"[{epoch + 1}] Learning rate this epoch: {optimizer.param_groups[0]['lr']:.6f}\")\n",
    "\n",
    "        for i, data in tqdm(enumerate(train_loader, 0)):\n",
    "            img_A = data[0].to(device)\n",
    "            img_B = data[1].to(device)\n",
    "            img_C = data[2].to(device)\n",
    "                        \n",
    "            optimizer.zero_grad()\n",
    "\n",
    "            anchor, positive, negetive = model(img_A, img_B, img_C)\n",
    "            loss = criterion(anchor, positive, negetive)\n",
    "            loss.backward()\n",
    "            optimizer.step()\n",
    "\n",
    "            running_loss += loss.item()\n",
    "        print(f'[{epoch + 1}] average loss per epoch: {running_loss / len(train_loader):.3f}')\n",
    "        \n",
    "\n",
    "        print('Validation')\n",
    "        # validation\n",
    "        model.eval()\n",
    "        with torch.no_grad():\n",
    "            for i, data in tqdm(enumerate(valid_loader, 0)):\n",
    "                img_A = data[0].to(device)\n",
    "                img_B = data[1].to(device)\n",
    "                img_C = data[2].to(device)\n",
    "                labels = data[3].reshape(-1, 1)\n",
    "\n",
    "                anchor, positive, negetive = model(img_A, img_B, img_C)\n",
    "                loss = criterion(anchor, positive, negetive)\n",
    "                valid_loss += loss\n",
    "                correct += valid(anchor, positive, negetive, labels)\n",
    "                total += labels.size(0)\n",
    "                accuracy = correct / total\n",
    "        print(f'Average Validation loss per epoch: {valid_loss / len(valid_loader):.3f}')\n",
    "        print(f'[{epoch + 1}] Accuracy of the network on the {total} valid images: {100 * accuracy} %')\n",
    "\n",
    "        torch.save(model.state_dict(), f'./resnet101_5_epoch{epoch+1}LR.pth')  \n",
    "\n",
    "        if accuracy >= valid_accuracy:\n",
    "            valid_accuracy = accuracy\n",
    "            torch.save(model.state_dict(), PATH)\n",
    "        \n",
    "\n",
    "    print('Finished Training')\n",
    "    "
   ]
  },
  {
   "cell_type": "code",
   "execution_count": null,
   "metadata": {},
   "outputs": [],
   "source": [
    "train(net)"
   ]
  },
  {
   "cell_type": "code",
   "execution_count": null,
   "metadata": {},
   "outputs": [],
   "source": [
    "net.load_state_dict(torch.load(PATH))\n",
    "net.to(device)"
   ]
  },
  {
   "cell_type": "code",
   "execution_count": null,
   "metadata": {},
   "outputs": [],
   "source": [
    "def predict(anchor, positive, negative):\n",
    "    dist_pos = torch.norm(anchor - positive, p=2, dim=1)\n",
    "    dist_neg = torch.norm(anchor - negative, p=2, dim=1)\n",
    "    diff = (dist_neg - dist_pos).detach().to('cpu').numpy()\n",
    "    predict = np.ceil(diff.clip(0,1))\n",
    "\n",
    "    return(predict)"
   ]
  },
  {
   "cell_type": "code",
   "execution_count": null,
   "metadata": {},
   "outputs": [],
   "source": [
    "def test(model):\n",
    "    predictions = []\n",
    "    model.eval()\n",
    "    with torch.no_grad():\n",
    "        for i, data in tqdm(enumerate(test_loader, 0)):\n",
    "            img_A = data[0].to(device)\n",
    "            img_B = data[1].to(device)\n",
    "            img_C = data[2].to(device)\n",
    "\n",
    "            anchor, positive, negetive = model(img_A, img_B, img_C)\n",
    "\n",
    "            pred = predict(anchor, positive, negetive)\n",
    "            predictions.append(pred)\n",
    "    return predictions"
   ]
  },
  {
   "cell_type": "code",
   "execution_count": null,
   "metadata": {},
   "outputs": [],
   "source": [
    "output = test(net)\n",
    "predictions = []\n",
    "for i in range(len(output)):\n",
    "    output[i].astype(np.int8)\n",
    "    for j in range(len(output[i])):\n",
    "        predictions.append(output[i][j])\n",
    "np.savetxt(SAVE_PATH, predictions, fmt='%i')"
   ]
  },
  {
   "cell_type": "code",
   "execution_count": null,
   "metadata": {},
   "outputs": [],
   "source": [
    "# for epoch in range(EPOCHS):\n",
    "#         adjust_lr(optimizer, epoch)\n",
    "#         print(f\"[{epoch + 1}] Learning rate this epoch: {optimizer.param_groups[0]['lr']:.6f}\")"
   ]
  }
 ],
 "metadata": {
  "interpreter": {
   "hash": "39fe20f6b254be83e375cffed239463c7387532852df3462d9030ca054f6a86b"
  },
  "kernelspec": {
   "display_name": "Python 3.8.13 ('pytorch')",
   "language": "python",
   "name": "python3"
  },
  "language_info": {
   "codemirror_mode": {
    "name": "ipython",
    "version": 3
   },
   "file_extension": ".py",
   "mimetype": "text/x-python",
   "name": "python",
   "nbconvert_exporter": "python",
   "pygments_lexer": "ipython3",
   "version": "3.8.13"
  },
  "orig_nbformat": 4
 },
 "nbformat": 4,
 "nbformat_minor": 2
}
